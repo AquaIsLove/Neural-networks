{
  "nbformat": 4,
  "nbformat_minor": 0,
  "metadata": {
    "colab": {
      "provenance": [],
      "authorship_tag": "ABX9TyM5SgYmiN2kBI+6YMeSfpVJ",
      "include_colab_link": true
    },
    "kernelspec": {
      "name": "python3",
      "display_name": "Python 3"
    },
    "language_info": {
      "name": "python"
    }
  },
  "cells": [
    {
      "cell_type": "markdown",
      "metadata": {
        "id": "view-in-github",
        "colab_type": "text"
      },
      "source": [
        "<a href=\"https://colab.research.google.com/github/AquaIsLove/Neural-networks/blob/main/LogisticRegression/logistic_regression01.ipynb\" target=\"_parent\"><img src=\"https://colab.research.google.com/assets/colab-badge.svg\" alt=\"Open In Colab\"/></a>"
      ]
    },
    {
      "cell_type": "code",
      "execution_count": 2,
      "metadata": {
        "id": "xUktwdGnEF3r"
      },
      "outputs": [],
      "source": [
        "import random\n",
        "\n",
        "import matplotlib.pyplot as plt\n",
        "import matplotlib.ticker as ticker\n",
        "%matplotlib inline\n",
        "\n",
        "import numpy as np"
      ]
    },
    {
      "cell_type": "code",
      "source": [
        "class LogisticRegression():\n",
        "\n",
        "  def __init__(self, lr, epochs,\n",
        "               w1=random.uniform(-5, 5),\n",
        "               w2=random.uniform(-5,5),\n",
        "               w0=random.uniform(-5, 5)\n",
        "               ):\n",
        "    self.lr = lr\n",
        "    self.epochs = epochs\n",
        "    self.w1 = w1\n",
        "    self.w2 = w2\n",
        "    self.w0 = w0\n",
        "\n",
        "  def fit(self, X1, X2, Y):\n",
        "    for e in range(self.epochs):\n",
        "      for x1, x2,  y in zip(X1, X2, Y):\n",
        "\n",
        "        sum = self.w1*x1 + self.w2*x2 + self.w0\n",
        "\n",
        "        y_new = 1/(1+np.exp(-sum))\n",
        "\n",
        "\n",
        "\n",
        "        dEdw1 = -2*(y-y_new)* y_new*(1-y_new) *x1\n",
        "        dEdw2 = -2*(y-y_new)* y_new*(1-y_new) *x2\n",
        "        dEdw0 = -2*(y-y_new)* y_new*(1-y_new)\n",
        "\n",
        "        self.w1 = self.w1 - self.lr*dEdw1\n",
        "        self.w2 = self.w2 - self.lr*dEdw2\n",
        "        self.w0 = self.w0 - self.lr*dEdw0\n",
        "\n",
        "  \n",
        "\n",
        "  def predict(self, X1,X2):\n",
        "    return [1/(1+np.exp(-(self.w1*x1 + self.w2*x2 + self.w0))) for x1,x2 in zip(X1,X2)]"
      ],
      "metadata": {
        "id": "k8vu_X47EeLi"
      },
      "execution_count": 3,
      "outputs": []
    },
    {
      "cell_type": "code",
      "source": [
        "lr = 0.001\n",
        "\n",
        "epochs = 300000\n",
        "w1 = -0.4\n",
        "w2 = 0.4\n",
        "w0 = 0.5\n",
        "\n",
        "X1 = [1, 2, 3, 3.5, 4, 6, 7.5, 8.5, 9]\n",
        "X2 = [4.3, 7, 8, 10.1, 11.3, 14.2, 18.5, 19.3, 21.4]\n",
        "Y = [0,1,0,1,1,0,1,0,1]\n",
        "\n",
        "model = LogisticRegression(lr, epochs, w1, w2, w0)\n",
        "\n",
        "model.fit(X1, X2, Y)\n",
        "\n",
        "print(np.exp(1.82))\n",
        "print(f'Получившееся значение коэффициента: w1={model.w1}')\n",
        "print(f'Получившееся значение коэффициента: w2={model.w2}')\n",
        "print(f'Получившееся значение коэффициента: w0={model.w0}')\n"
      ],
      "metadata": {
        "colab": {
          "base_uri": "https://localhost:8080/"
        },
        "id": "vLRcEuSXGKU3",
        "outputId": "541ba59d-cc34-40fc-8576-9374eaef51b0"
      },
      "execution_count": 4,
      "outputs": [
        {
          "output_type": "stream",
          "name": "stdout",
          "text": [
            "6.171858449883554\n",
            "Получившееся значение коэффициента: w1=-10.05482485216108\n",
            "Получившееся значение коэффициента: w2=4.966643553762146\n",
            "Получившееся значение коэффициента: w0=-12.831627385809513\n"
          ]
        }
      ]
    },
    {
      "cell_type": "code",
      "source": [
        "model.predict(X1,X2)"
      ],
      "metadata": {
        "colab": {
          "base_uri": "https://localhost:8080/"
        },
        "id": "4gbqjMzLKgn3",
        "outputId": "b902a200-9eb1-493d-a76a-f2b55ce1e884"
      },
      "execution_count": 5,
      "outputs": [
        {
          "output_type": "execute_result",
          "data": {
            "text/plain": [
              "[0.17801051860380457,\n",
              " 0.8611922382938518,\n",
              " 0.03686420060031258,\n",
              " 0.8946915655890155,\n",
              " 0.9557290337703974,\n",
              " 0.06696716082381068,\n",
              " 0.9744215040097772,\n",
              " 0.08006840062713369,\n",
              " 0.950786473541213]"
            ]
          },
          "metadata": {},
          "execution_count": 5
        }
      ]
    }
  ]
}